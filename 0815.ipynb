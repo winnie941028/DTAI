{
 "cells": [
  {
   "cell_type": "code",
   "execution_count": 1,
   "metadata": {},
   "outputs": [
    {
     "name": "stdout",
     "output_type": "stream",
     "text": [
      "hello world, I am oxxo\n"
     ]
    }
   ],
   "source": [
    "a = 'hello {}, I am {}'\n",
    "b = a.format('world', 'oxxo')\n",
    "print(b) "
   ]
  },
  {
   "cell_type": "code",
   "execution_count": 3,
   "metadata": {},
   "outputs": [
    {
     "name": "stdout",
     "output_type": "stream",
     "text": [
      "倪好 {}, 我是珣 {}\n"
     ]
    }
   ],
   "source": [
    "C = '倪好 {}, 我是珣 {}'\n",
    "D = C.format('world', 'oxxo')\n",
    "print(C) "
   ]
  },
  {
   "cell_type": "code",
   "execution_count": 10,
   "metadata": {},
   "outputs": [
    {
     "name": "stdout",
     "output_type": "stream",
     "text": [
      "hello world, I am oxxo\n",
      "hello world     , I am oxxo      \n",
      "hello      world, I am       oxxo\n",
      "hello ..world..., I am +++oxxo+++\n",
      "hello ---wor----, I am ---oxxo---\n",
      "hello +++wor++++, I am  123.457  \n"
     ]
    }
   ],
   "source": [
    "a = 'hello {}, I am {}'.format('world','oxxo')\n",
    "b = 'hello {:10s}, I am {:10s}'.format('world','oxxo')\n",
    "c = 'hello {:>10s}, I am {:>10s}'.format('world','oxxo')\n",
    "d = 'hello {:.^10s}, I am {:+^10s}'.format('world','oxxo')\n",
    "e = 'hello {:-^10.3s}, I am {:-^10s}'.format('world','oxxo')\n",
    "f = 'hello {:+^10.3s}, I am {:^10.3f}'.format('world',123.456789)\n",
    "print(a)  # hello world, I am oxxo\n",
    "print(b)  # hello world     , I am oxxo\n",
    "print(c)  # hello      world, I am       oxxo\n",
    "print(d)  # hello --world---, I am +++oxxo+++\n",
    "print(e)  # hello ---wor----, I am ---oxxo---\n",
    "print(f)  # hello ---wor----, I am  123.457"
   ]
  },
  {
   "cell_type": "code",
   "execution_count": 20,
   "metadata": {},
   "outputs": [
    {
     "name": "stdout",
     "output_type": "stream",
     "text": [
      "world +++world---, I am ...123.456789...\n"
     ]
    }
   ],
   "source": [
    "g = '{} +++world---, I am ...{}...'.format('world',123.456789)\n",
    "print(g)"
   ]
  },
  {
   "cell_type": "code",
   "execution_count": 22,
   "metadata": {},
   "outputs": [
    {
     "name": "stdout",
     "output_type": "stream",
     "text": [
      "hello +++world---, I and +++(h)---\n"
     ]
    }
   ],
   "source": [
    "h = \"oxxo\"\n",
    "i = f\"hello +++world---, I and +++(h)---\"\n",
    "print(i)"
   ]
  },
  {
   "cell_type": "code",
   "execution_count": 23,
   "metadata": {},
   "outputs": [
    {
     "name": "stdout",
     "output_type": "stream",
     "text": [
      "hello world, I am oxxo\n"
     ]
    }
   ],
   "source": [
    "a = 'world'\n",
    "b = 'oxxo'\n",
    "c = f'hello {a}, I am {b}'\n",
    "print(c) "
   ]
  },
  {
   "cell_type": "code",
   "execution_count": 24,
   "metadata": {},
   "outputs": [
    {
     "name": "stdout",
     "output_type": "stream",
     "text": [
      "hello world     , I am       oxxo\n",
      "hello world-----, I am +++oxxo+++\n",
      "hello wor-------, I am ++++ox++++\n",
      "hello WORLD, I am Oxxo\n"
     ]
    }
   ],
   "source": [
    "a = 'world'\n",
    "b = 'oxxo'\n",
    "c = f'hello {a:<10s}, I am {b:>10s}'\n",
    "d = f'hello {a:-<10s}, I am {b:+^10s}'\n",
    "e = f'hello {a:-<10.3s}, I am {b:+^10.2s}'\n",
    "f = f'hello {a.upper()}, I am {b.title()}'\n",
    "print(c)   # hello world     , I am       oxxo\n",
    "print(d)   # hello world-----, I am +++oxxo+++\n",
    "print(e)   # hello wor-------, I am ++++ox++++\n",
    "print(f)   # hello WORLD, I am Oxxo"
   ]
  },
  {
   "cell_type": "code",
   "execution_count": 34,
   "metadata": {},
   "outputs": [
    {
     "name": "stdout",
     "output_type": "stream",
     "text": [
      "001 , 002 , 003 , 004 , 005 , 006 , 007 , 008 , 009 , 010 , \n",
      "011 , 012 , 013 , 014 , 015 , 016 , 017 , 018 , 019 , 020 , \n",
      "021 , 022 , 023 , 024 , 025 , 026 , 027 , 028 , 029 , 030 , \n",
      "031 , 032 , 033 , 034 , 035 , 036 , 037 , 038 , 039 , 040 , \n",
      "041 , 042 , 043 , 044 , 045 , 046 , 047 , 048 , 049 , 050 , \n",
      "051 , 052 , 053 , 054 , 055 , 056 , 057 , 058 , 059 , 060 , \n",
      "061 , 062 , 063 , 064 , 065 , 066 , 067 , 068 , 069 , 070 , \n",
      "071 , 072 , 073 , 074 , 075 , 076 , 077 , 078 , 079 , 080 , \n",
      "081 , 082 , 083 , 084 , 085 , 086 , 087 , 088 , 089 , 090 , \n",
      "091 , 092 , 093 , 094 , 095 , 096 , 097 , 098 , 099 , 100 , \n"
     ]
    }
   ],
   "source": [
    "count = 0\n",
    "for i in range(1,101):\n",
    "  print(f'{i:03d}',end=' , ')\n",
    "  count += 1\n",
    "  if count % 10 == 0:\n",
    "     print()"
   ]
  },
  {
   "cell_type": "code",
   "execution_count": null,
   "metadata": {},
   "outputs": [],
   "source": []
  }
 ],
 "metadata": {
  "kernelspec": {
   "display_name": "Python 3",
   "language": "python",
   "name": "python3"
  },
  "language_info": {
   "codemirror_mode": {
    "name": "ipython",
    "version": 3
   },
   "file_extension": ".py",
   "mimetype": "text/x-python",
   "name": "python",
   "nbconvert_exporter": "python",
   "pygments_lexer": "ipython3",
   "version": "3.12.4"
  }
 },
 "nbformat": 4,
 "nbformat_minor": 2
}
