{
 "cells": [
  {
   "cell_type": "code",
   "execution_count": null,
   "metadata": {},
   "outputs": [],
   "source": [
    "if(score >= 60)\n",
    "    grade = 及格\n",
    "sum = sum + score\n"
   ]
  },
  {
   "cell_type": "code",
   "execution_count": null,
   "metadata": {},
   "outputs": [],
   "source": [
    "密碼 = int (input(\"請輸入密碼\"))\n",
    "if 密碼 == 1234:\n",
    "    print('密碼正確')\n",
    "else:\n",
    "    print('密碼不正確')"
   ]
  },
  {
   "cell_type": "code",
   "execution_count": null,
   "metadata": {},
   "outputs": [],
   "source": [
    "偶數判斷 = int(input(\"請輸入一個整數\"))\n",
    "if 偶數判斷%2 == 0:\n",
    "     print(\"你屬入的數字是偶數\")\n",
    "else:\n",
    "     print(\"你屬入的數字是奇數\")"
   ]
  },
  {
   "cell_type": "code",
   "execution_count": null,
   "metadata": {},
   "outputs": [],
   "source": [
    "e = int (input(\"請輸入體溫\"))\n",
    "if   (37.5 <= e ):\n",
    "     print('體溫過高')\n",
    "elif (37 <= e <= 37.4):\n",
    "    print('體溫略高')\n",
    "elif (34 <= e <= 36.9):\n",
    "    print('體溫正常')   \n",
    "else:\n",
    "    print('體溫異常')"
   ]
  },
  {
   "cell_type": "code",
   "execution_count": 11,
   "metadata": {},
   "outputs": [
    {
     "name": "stdout",
     "output_type": "stream",
     "text": [
      "D\n"
     ]
    }
   ],
   "source": [
    "g = float (input(\"請輸入成績\"))\n",
    "if (90 <= g <= 100):\n",
    "    print('A')\n",
    "elif (80 <= g <= 89):\n",
    "    print('B')\n",
    "elif  (70 <= g <= 79):\n",
    "    print('C')   \n",
    "elif  (60 <= g <= 69):\n",
    "    print('D')\n",
    "else :\n",
    "    print('E')   "
   ]
  },
  {
   "cell_type": "code",
   "execution_count": null,
   "metadata": {},
   "outputs": [],
   "source": [
    "g = float (input(\"請輸入成績\"))\n",
    "if (90 <= g <= 100):\n",
    "    print('A')\n",
    "elif (80 <= g <= 89):\n",
    "    print('B')\n",
    "elif  (70 <= g <= 79):\n",
    "    print('C')   \n",
    "elif  (60 <= g <= 69):\n",
    "    print('D')\n",
    "else :\n",
    "    print('E')   "
   ]
  },
  {
   "cell_type": "code",
   "execution_count": 17,
   "metadata": {},
   "outputs": [
    {
     "ename": "SyntaxError",
     "evalue": "expected ':' (178566873.py, line 6)",
     "output_type": "error",
     "traceback": [
      "\u001b[1;36m  Cell \u001b[1;32mIn[17], line 6\u001b[1;36m\u001b[0m\n\u001b[1;33m    else (10 == e):\u001b[0m\n\u001b[1;37m         ^\u001b[0m\n\u001b[1;31mSyntaxError\u001b[0m\u001b[1;31m:\u001b[0m expected ':'\n"
     ]
    }
   ],
   "source": [
    "e = int (input(\"請輸入體溫\"))\n",
    "if   (5 >= e ):\n",
    "     print('需要加油')\n",
    "elif (5 <= e <= 10):\n",
    "    print('油量不足 建議加油')   \n",
    "else (10 == e):\n",
    "    print('油量充足')"
   ]
  },
  {
   "cell_type": "code",
   "execution_count": 23,
   "metadata": {},
   "outputs": [
    {
     "name": "stdout",
     "output_type": "stream",
     "text": [
      "油量充足\n"
     ]
    }
   ],
   "source": [
    "e = int (input(\"請輸入體溫\"))\n",
    "if   (5 >= e ):\n",
    "     print('需要加油')\n",
    "elif (5 <= e <= 10):\n",
    "    print('油量不足 建議加油')   \n",
    "else :\n",
    "    print('油量充足')"
   ]
  },
  {
   "cell_type": "code",
   "execution_count": 25,
   "metadata": {},
   "outputs": [
    {
     "name": "stdout",
     "output_type": "stream",
     "text": [
      "不提供\n"
     ]
    }
   ],
   "source": [
    "g = float (input(\"請輸入總額\"))\n",
    "if (1000 <= g ):\n",
    "    total = g*0.8\n",
    "    print(total)\n",
    "elif (500 <= g <= 1000):\n",
    "    total = g*0.9\n",
    "    print(total)\n",
    "else :\n",
    "    print('不提供')   "
   ]
  },
  {
   "cell_type": "code",
   "execution_count": 24,
   "metadata": {},
   "outputs": [
    {
     "name": "stdout",
     "output_type": "stream",
     "text": [
      "1345.0\n"
     ]
    }
   ],
   "source": [
    "g = float (input(\"請輸入總額\"))\n",
    "if (g < 1000 ):\n",
    "    amount = g -150\n",
    "    print(amount)\n",
    "elif (5000 <= g <= 10000):\n",
    "     amount = g-50\n",
    "     print(amount)\n",
    "elif  (1000 <= g <= 5000):\n",
    "    amount = g-100\n",
    "    print(amount)   \n",
    "else :\n",
    "    print(g)   "
   ]
  },
  {
   "cell_type": "code",
   "execution_count": 26,
   "metadata": {},
   "outputs": [],
   "source": [
    "c = range(3, 8, 1)  # 3,4,5,6,7"
   ]
  },
  {
   "cell_type": "code",
   "execution_count": 27,
   "metadata": {},
   "outputs": [
    {
     "name": "stdout",
     "output_type": "stream",
     "text": [
      "range(3, 8)\n"
     ]
    }
   ],
   "source": [
    "print(c)"
   ]
  },
  {
   "cell_type": "code",
   "execution_count": 28,
   "metadata": {},
   "outputs": [],
   "source": [
    "d = range(3, 8, 2)  # 3,5,7\n"
   ]
  },
  {
   "cell_type": "code",
   "execution_count": 29,
   "metadata": {},
   "outputs": [],
   "source": [
    "e = range(8, 3, -1) # 8,7,6,5,4\n"
   ]
  },
  {
   "cell_type": "code",
   "execution_count": 30,
   "metadata": {},
   "outputs": [
    {
     "name": "stdout",
     "output_type": "stream",
     "text": [
      "[3, 5, 7]\n"
     ]
    }
   ],
   "source": [
    "print(list(d))"
   ]
  },
  {
   "cell_type": "code",
   "execution_count": 31,
   "metadata": {},
   "outputs": [
    {
     "name": "stdout",
     "output_type": "stream",
     "text": [
      "[3, 4, 5, 6, 7]\n"
     ]
    }
   ],
   "source": [
    "print(list(c))"
   ]
  },
  {
   "cell_type": "code",
   "execution_count": 32,
   "metadata": {},
   "outputs": [
    {
     "name": "stdout",
     "output_type": "stream",
     "text": [
      "[8, 7, 6, 5, 4]\n"
     ]
    }
   ],
   "source": [
    "print(list(e))"
   ]
  },
  {
   "cell_type": "code",
   "execution_count": 33,
   "metadata": {},
   "outputs": [],
   "source": [
    "c1 = list(c)"
   ]
  },
  {
   "cell_type": "code",
   "execution_count": 34,
   "metadata": {},
   "outputs": [
    {
     "name": "stdout",
     "output_type": "stream",
     "text": [
      "[3, 4, 5, 6, 7]\n"
     ]
    }
   ],
   "source": [
    "print(c1)"
   ]
  },
  {
   "cell_type": "code",
   "execution_count": 35,
   "metadata": {},
   "outputs": [
    {
     "name": "stdout",
     "output_type": "stream",
     "text": [
      "<class 'list'>\n"
     ]
    }
   ],
   "source": [
    "print(type(c1))"
   ]
  },
  {
   "cell_type": "code",
   "execution_count": 37,
   "metadata": {},
   "outputs": [
    {
     "name": "stdout",
     "output_type": "stream",
     "text": [
      "0\n",
      "1\n",
      "2\n",
      "3\n",
      "4\n"
     ]
    }
   ],
   "source": [
    "for  i in range(5):\n",
    "    print(i)"
   ]
  },
  {
   "cell_type": "code",
   "execution_count": 38,
   "metadata": {},
   "outputs": [
    {
     "name": "stdout",
     "output_type": "stream",
     "text": [
      "0\n",
      "1\n",
      "2\n",
      "3\n",
      "4\n",
      "5\n",
      "6\n",
      "7\n",
      "8\n"
     ]
    }
   ],
   "source": [
    "for  i in range(9):\n",
    "    print(i)"
   ]
  },
  {
   "cell_type": "code",
   "execution_count": 2,
   "metadata": {},
   "outputs": [
    {
     "name": "stdout",
     "output_type": "stream",
     "text": [
      "0\n",
      "1\n",
      "2\n",
      "3\n",
      "4\n",
      "5\n",
      "6\n",
      "7\n"
     ]
    }
   ],
   "source": [
    "for  i in range(8):\n",
    "    print(i)"
   ]
  },
  {
   "cell_type": "code",
   "execution_count": 9,
   "metadata": {},
   "outputs": [
    {
     "name": "stdout",
     "output_type": "stream",
     "text": [
      "0,1,2,3,4,5,6,7,8,"
     ]
    }
   ],
   "source": [
    "for  i in range(9):\n",
    "    print(i, end=\",\")\n"
   ]
  },
  {
   "cell_type": "code",
   "execution_count": 21,
   "metadata": {},
   "outputs": [
    {
     "name": "stdout",
     "output_type": "stream",
     "text": [
      "0,1,2,3\n"
     ]
    }
   ],
   "source": [
    "for  i in range(3):\n",
    "    print(i, end=\",\")\n",
    "sum = 0 \n",
    "for i in range(3):     \n",
    "   sum = sum+i \n",
    "print(sum) \n"
   ]
  },
  {
   "cell_type": "code",
   "execution_count": 13,
   "metadata": {},
   "outputs": [
    {
     "name": "stdout",
     "output_type": "stream",
     "text": [
      "0 1 2 3 4 5 "
     ]
    }
   ],
   "source": [
    "input(\"請輸入正整數\")\n",
    "for  i in range(6):\n",
    "    print(i, end=\" \")"
   ]
  },
  {
   "cell_type": "code",
   "execution_count": 25,
   "metadata": {},
   "outputs": [
    {
     "name": "stdout",
     "output_type": "stream",
     "text": [
      "0 1 2 3 4 5 6 7 8 9 10 45\n"
     ]
    }
   ],
   "source": [
    "input(\"請輸入正整數\")\n",
    "for  i in range(11):\n",
    "    print(i, end=\" \")\n",
    "sum = 0 \n",
    "for i in range(10):     \n",
    "   sum = sum+i \n",
    "print(sum) \n"
   ]
  },
  {
   "cell_type": "code",
   "execution_count": 26,
   "metadata": {},
   "outputs": [
    {
     "name": "stdout",
     "output_type": "stream",
     "text": [
      "0 1 2 3 4 5 6 7 8 9 10 11 12 13 14 15 16 17 18 19 20 21 22 23 24 25 26 27 28 29 30 31 32 33 34 35 36 37 38 39 40 41 42 43 44 45 46 47 48 49 50 51 52 53 54 1485\n"
     ]
    }
   ],
   "source": [
    "input(\"請輸入正整數\")\n",
    "for  i in range(55):\n",
    "    print(i, end=\" \")\n",
    "sum = 0 \n",
    "for i in range(55):     \n",
    "   sum = sum+i \n",
    "print(sum) \n"
   ]
  },
  {
   "cell_type": "code",
   "execution_count": 28,
   "metadata": {},
   "outputs": [
    {
     "name": "stdout",
     "output_type": "stream",
     "text": [
      "0,1,2,3,4,5,6,7,8,9,10,11,12,13,14,15,16,17,18,19,20,21,22,23,24,25,26,27,28,29,30,31,32,33,34,35,36,37,38,39,40,41,42,43,44,45,46,47,48,49,50,51,52,53,54,55,56,57,58,59,60,61,62,63,64,65,66,67,68,69,70,71,72,73,74,75,76,77,78,79,80,81,82,83,84,85,86,87,88,89,90,91,92,93,94,95,96,97,98,99,4950\n"
     ]
    }
   ],
   "source": [
    "input(\"請輸入正整數\")\n",
    "for  i in range(100):\n",
    "    print(i, end=\",\")\n",
    "sum = 0 \n",
    "for i in range(100):     \n",
    "   sum = sum+i \n",
    "print(sum) "
   ]
  },
  {
   "cell_type": "code",
   "execution_count": 30,
   "metadata": {},
   "outputs": [
    {
     "name": "stdout",
     "output_type": "stream",
     "text": [
      "10\n",
      "9\n",
      "8\n",
      "7\n",
      "6\n",
      "5\n",
      "4\n",
      "3\n",
      "2\n",
      "1\n"
     ]
    }
   ],
   "source": [
    "test = [1,2,3,4,5,6,7,8,9,10]\n",
    "for n in reversed(test):\n",
    "   print(n)"
   ]
  },
  {
   "cell_type": "code",
   "execution_count": null,
   "metadata": {},
   "outputs": [],
   "source": []
  }
 ],
 "metadata": {
  "kernelspec": {
   "display_name": "Python 3",
   "language": "python",
   "name": "python3"
  },
  "language_info": {
   "codemirror_mode": {
    "name": "ipython",
    "version": 3
   },
   "file_extension": ".py",
   "mimetype": "text/x-python",
   "name": "python",
   "nbconvert_exporter": "python",
   "pygments_lexer": "ipython3",
   "version": "3.12.4"
  }
 },
 "nbformat": 4,
 "nbformat_minor": 2
}
